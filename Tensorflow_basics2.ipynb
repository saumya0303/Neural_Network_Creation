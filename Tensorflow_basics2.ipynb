{
  "nbformat": 4,
  "nbformat_minor": 0,
  "metadata": {
    "colab": {
      "name": "Tensorflow_basics2.ipynb",
      "provenance": [],
      "authorship_tag": "ABX9TyP5eT8tuVPxKI+KBqTrBhKC",
      "include_colab_link": true
    },
    "kernelspec": {
      "name": "python3",
      "display_name": "Python 3"
    }
  },
  "cells": [
    {
      "cell_type": "markdown",
      "metadata": {
        "id": "view-in-github",
        "colab_type": "text"
      },
      "source": [
        "<a href=\"https://colab.research.google.com/github/saumya0303/Neural_Network_Creation/blob/master/Tensorflow_basics2.ipynb\" target=\"_parent\"><img src=\"https://colab.research.google.com/assets/colab-badge.svg\" alt=\"Open In Colab\"/></a>"
      ]
    },
    {
      "cell_type": "code",
      "metadata": {
        "id": "0UVhCrHMW_O3",
        "colab_type": "code",
        "colab": {}
      },
      "source": [
        "#predict y=mx+b line in the given dataset\n",
        "import tensorflow as tf\n"
      ],
      "execution_count": 0,
      "outputs": []
    },
    {
      "cell_type": "code",
      "metadata": {
        "id": "LVK8UpuwXDJo",
        "colab_type": "code",
        "colab": {}
      },
      "source": [
        "n_feature=10 #data has 10 features\n",
        "n_dense_neurons=3"
      ],
      "execution_count": 0,
      "outputs": []
    },
    {
      "cell_type": "code",
      "metadata": {
        "id": "dMXXyHpgXzfw",
        "colab_type": "code",
        "colab": {}
      },
      "source": [
        "import tensorflow.compat.v1 as tf\n",
        "tf.disable_v2_behavior() \n",
        "import numpy as np\n",
        "import matplotlib.pyplot as plt\n"
      ],
      "execution_count": 0,
      "outputs": []
    },
    {
      "cell_type": "code",
      "metadata": {
        "id": "A62d-XqTXac0",
        "colab_type": "code",
        "colab": {}
      },
      "source": [
        "x=tf.placeholder(tf.float32,(None,n_feature))"
      ],
      "execution_count": 0,
      "outputs": []
    },
    {
      "cell_type": "code",
      "metadata": {
        "id": "vCB3Qr2kX1YX",
        "colab_type": "code",
        "colab": {}
      },
      "source": [
        "W=tf.Variable(tf.random_normal([n_feature,n_dense_neurons]))"
      ],
      "execution_count": 0,
      "outputs": []
    },
    {
      "cell_type": "code",
      "metadata": {
        "id": "zHS4Id4-YH2n",
        "colab_type": "code",
        "colab": {}
      },
      "source": [
        "b=tf.Variable(tf.ones([n_dense_neurons]))"
      ],
      "execution_count": 0,
      "outputs": []
    },
    {
      "cell_type": "code",
      "metadata": {
        "id": "Zmx-IWkKYcBk",
        "colab_type": "code",
        "colab": {}
      },
      "source": [
        "xW=tf.matmul(x,W)"
      ],
      "execution_count": 0,
      "outputs": []
    },
    {
      "cell_type": "code",
      "metadata": {
        "id": "Du6Dy8gdYhKx",
        "colab_type": "code",
        "colab": {}
      },
      "source": [
        "z=tf.add(xW,b)"
      ],
      "execution_count": 0,
      "outputs": []
    },
    {
      "cell_type": "code",
      "metadata": {
        "id": "JVrTsg42YlV8",
        "colab_type": "code",
        "colab": {}
      },
      "source": [
        "a=tf.nn.sigmoid(z)"
      ],
      "execution_count": 0,
      "outputs": []
    },
    {
      "cell_type": "code",
      "metadata": {
        "id": "6Ix_jt5JY59t",
        "colab_type": "code",
        "colab": {}
      },
      "source": [
        "init=tf.global_variables_initializer()"
      ],
      "execution_count": 0,
      "outputs": []
    },
    {
      "cell_type": "code",
      "metadata": {
        "id": "xXaCLsqBY9VN",
        "colab_type": "code",
        "colab": {}
      },
      "source": [
        "with tf.Session() as sess:\n",
        "  sess.run(init)\n",
        "  layer_out=sess.run(a,feed_dict={x:np.random.random([1,n_feature])})"
      ],
      "execution_count": 0,
      "outputs": []
    },
    {
      "cell_type": "code",
      "metadata": {
        "id": "ZhF2t5M7ZhZL",
        "colab_type": "code",
        "colab": {
          "base_uri": "https://localhost:8080/",
          "height": 34
        },
        "outputId": "cce95361-ae29-44ef-cfb8-bfa06daead95"
      },
      "source": [
        "print(layer_out)"
      ],
      "execution_count": 18,
      "outputs": [
        {
          "output_type": "stream",
          "text": [
            "[[0.7878406  0.8485293  0.93488455]]\n"
          ],
          "name": "stdout"
        }
      ]
    },
    {
      "cell_type": "code",
      "metadata": {
        "id": "LF24GASBaLXt",
        "colab_type": "code",
        "colab": {}
      },
      "source": [
        "#we have to adjust w and b for good model\n",
        "#simple regression example"
      ],
      "execution_count": 0,
      "outputs": []
    },
    {
      "cell_type": "code",
      "metadata": {
        "id": "cezOka72aPRq",
        "colab_type": "code",
        "colab": {}
      },
      "source": [
        "x_data=np.linspace(0,10,10)+np.random.uniform(-1.5,1.5,10) #adding some random noise using np.random.uniform"
      ],
      "execution_count": 0,
      "outputs": []
    },
    {
      "cell_type": "code",
      "metadata": {
        "id": "e4Jv9RvuakL8",
        "colab_type": "code",
        "colab": {
          "base_uri": "https://localhost:8080/",
          "height": 51
        },
        "outputId": "228575cf-ddaf-4d3f-9bac-23315a2832c1"
      },
      "source": [
        "print(x_data)"
      ],
      "execution_count": 20,
      "outputs": [
        {
          "output_type": "stream",
          "text": [
            "[-0.88298806 -0.36175072  1.00861933  2.08698784  4.55281652  4.65534477\n",
            "  5.34961064  7.03683189  7.89435495 10.20580027]\n"
          ],
          "name": "stdout"
        }
      ]
    },
    {
      "cell_type": "code",
      "metadata": {
        "id": "qQOgK5bVaonf",
        "colab_type": "code",
        "colab": {}
      },
      "source": [
        "y_label=np.linspace(0,10,10)+np.random.uniform(-1.5,1.5,10)"
      ],
      "execution_count": 0,
      "outputs": []
    },
    {
      "cell_type": "code",
      "metadata": {
        "id": "N5fATpSJattr",
        "colab_type": "code",
        "colab": {
          "base_uri": "https://localhost:8080/",
          "height": 51
        },
        "outputId": "40d397d4-765b-437c-aea5-09136bed76f3"
      },
      "source": [
        "print(y_label)"
      ],
      "execution_count": 22,
      "outputs": [
        {
          "output_type": "stream",
          "text": [
            "[0.52104998 2.27313057 0.9434374  2.92834767 4.39946068 6.83321006\n",
            " 7.67165967 8.71288545 8.55105182 8.9019107 ]\n"
          ],
          "name": "stdout"
        }
      ]
    },
    {
      "cell_type": "code",
      "metadata": {
        "id": "b9094RZNa2gm",
        "colab_type": "code",
        "colab": {
          "base_uri": "https://localhost:8080/",
          "height": 265
        },
        "outputId": "18ba8568-74d6-4d92-c466-9e59a06fabeb"
      },
      "source": [
        "plt.plot(x_data,y_label,'blue')\n",
        "plt.show()"
      ],
      "execution_count": 26,
      "outputs": [
        {
          "output_type": "display_data",
          "data": {
            "image/png": "[encoded data removed]",
            "text/plain": [
              "<Figure size 432x288 with 1 Axes>"
            ]
          },
          "metadata": {
            "tags": [],
            "needs_background": "light"
          }
        }
      ]
    },
    {
      "cell_type": "code",
      "metadata": {
        "id": "wS66AY4ubCP1",
        "colab_type": "code",
        "colab": {}
      },
      "source": [
        "#initialixe with random variables\n",
        "m=tf.Variable(0.44)\n",
        "b=tf.Variable(0.87)"
      ],
      "execution_count": 0,
      "outputs": []
    },
    {
      "cell_type": "code",
      "metadata": {
        "id": "_iYQk83VbVb7",
        "colab_type": "code",
        "colab": {}
      },
      "source": [
        "error=0\n",
        "#zip:-make a tuple of x,y \n",
        "for x,y in zip(x_data,y_label):\n",
        "  y_hat=m*x+b\n",
        "  error+=(y-y_hat)**2\n",
        "\n"
      ],
      "execution_count": 0,
      "outputs": []
    },
    {
      "cell_type": "code",
      "metadata": {
        "id": "P0Vcq654a7xl",
        "colab_type": "code",
        "colab": {}
      },
      "source": [
        "optimizer=tf.train.GradientDescentOptimizer(learning_rate=0.001)\n",
        "train=optimizer.minimize(error)#pass parameter to minimize"
      ],
      "execution_count": 0,
      "outputs": []
    },
    {
      "cell_type": "code",
      "metadata": {
        "id": "DyazHTlzcTjp",
        "colab_type": "code",
        "colab": {}
      },
      "source": [
        "init=tf.global_variables_initializer()"
      ],
      "execution_count": 0,
      "outputs": []
    },
    {
      "cell_type": "code",
      "metadata": {
        "id": "q2ar3zRucq2V",
        "colab_type": "code",
        "colab": {}
      },
      "source": [
        "with tf.Session() as sess:\n",
        "  sess.run(init)\n",
        "  training_step=1000\n",
        "  for i in range(training_step):\n",
        "    sess.run(train)#optimizer which minimizes the error\n",
        "  final_slope,final_intercept=sess.run([m,b])  #fetch back our result"
      ],
      "execution_count": 0,
      "outputs": []
    },
    {
      "cell_type": "code",
      "metadata": {
        "id": "kPv3XpRrdVHk",
        "colab_type": "code",
        "colab": {
          "base_uri": "https://localhost:8080/",
          "height": 282
        },
        "outputId": "9a785ae5-4c49-4c82-ab2e-546ef1be8542"
      },
      "source": [
        "x_test=np.linspace(-1,11,10)\n",
        "y_pred_plot=final_slope*x_test+final_intercept\n",
        "plt.plot(x_test,y_pred,'r--')\n",
        "plt.plot(x_data,y_label,'blue')"
      ],
      "execution_count": 41,
      "outputs": [
        {
          "output_type": "execute_result",
          "data": {
            "text/plain": [
              "[<matplotlib.lines.Line2D at 0x7f20f32e36d8>]"
            ]
          },
          "metadata": {
            "tags": []
          },
          "execution_count": 41
        },
        {
          "output_type": "display_data",
          "data": {
            "image/png": "[encoded data removed]",
            "text/plain": [
              "<Figure size 432x288 with 1 Axes>"
            ]
          },
          "metadata": {
            "tags": [],
            "needs_background": "light"
          }
        }
      ]
    }
  ]
}