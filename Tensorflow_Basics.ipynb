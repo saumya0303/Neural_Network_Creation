{
  "nbformat": 4,
  "nbformat_minor": 0,
  "metadata": {
    "colab": {
      "name": "Tensorflow_Basics.ipynb",
      "provenance": [],
      "authorship_tag": "ABX9TyOoKVRJJ7Vzcl20etXnGFF2",
      "include_colab_link": true
    },
    "kernelspec": {
      "name": "python3",
      "display_name": "Python 3"
    }
  },
  "cells": [
    {
      "cell_type": "markdown",
      "metadata": {
        "id": "view-in-github",
        "colab_type": "text"
      },
      "source": [
        "<a href=\"https://colab.research.google.com/github/saumya0303/Neural_Network_Creation/blob/master/Tensorflow_Basics.ipynb\" target=\"_parent\"><img src=\"https://colab.research.google.com/assets/colab-badge.svg\" alt=\"Open In Colab\"/></a>"
      ]
    },
    {
      "cell_type": "code",
      "metadata": {
        "id": "fEhzDEDF5HWu",
        "colab_type": "code",
        "colab": {}
      },
      "source": [
        "import tensorflow as tf\n",
        "import numpy as np"
      ],
      "execution_count": 0,
      "outputs": []
    },
    {
      "cell_type": "code",
      "metadata": {
        "id": "DjJclUL4Nceb",
        "colab_type": "code",
        "colab": {
          "base_uri": "https://localhost:8080/",
          "height": 34
        },
        "outputId": "b62eb9e8-b947-4862-a235-94c92e274ed8"
      },
      "source": [
        "print(tf.__version__)"
      ],
      "execution_count": 4,
      "outputs": [
        {
          "output_type": "stream",
          "text": [
            "2.2.0-rc2\n"
          ],
          "name": "stdout"
        }
      ]
    },
    {
      "cell_type": "code",
      "metadata": {
        "id": "t4jgzvYlOAXC",
        "colab_type": "code",
        "colab": {}
      },
      "source": [
        "np.random.seed(101)\n",
        "tf.random.set_seed(101)"
      ],
      "execution_count": 0,
      "outputs": []
    },
    {
      "cell_type": "code",
      "metadata": {
        "id": "BZqdXfYNOsgr",
        "colab_type": "code",
        "colab": {}
      },
      "source": [
        "rand_a=np.random.uniform(0,100,(5,5))"
      ],
      "execution_count": 0,
      "outputs": []
    },
    {
      "cell_type": "code",
      "metadata": {
        "id": "zKBHpWrcO4cU",
        "colab_type": "code",
        "colab": {
          "base_uri": "https://localhost:8080/",
          "height": 102
        },
        "outputId": "17898c09-1dbb-4c7f-db54-b238e8359f1f"
      },
      "source": [
        "print(rand_a)"
      ],
      "execution_count": 13,
      "outputs": [
        {
          "output_type": "stream",
          "text": [
            "[[52.06653967 57.87895355 73.48190583 54.19617722 91.31535577]\n",
            " [80.7920151  40.29978307 35.72243428 95.28767147 34.36315779]\n",
            " [86.50998163 83.02777122 53.81614492 92.24693726  9.71464798]\n",
            " [10.28474932 70.15072957 89.04798691 15.95603009 27.55725449]\n",
            " [67.24915297 16.4303124  70.13711366 48.76352222 68.06777682]]\n"
          ],
          "name": "stdout"
        }
      ]
    },
    {
      "cell_type": "code",
      "metadata": {
        "id": "fQL-0KmIO_Fx",
        "colab_type": "code",
        "colab": {}
      },
      "source": [
        "rand_b=np.random.uniform(0,100,(5,1))"
      ],
      "execution_count": 0,
      "outputs": []
    },
    {
      "cell_type": "code",
      "metadata": {
        "id": "TU9PJXmWPGyv",
        "colab_type": "code",
        "colab": {
          "base_uri": "https://localhost:8080/",
          "height": 102
        },
        "outputId": "d5520934-4bf8-4489-985e-48e134aed139"
      },
      "source": [
        "print(rand_b)"
      ],
      "execution_count": 15,
      "outputs": [
        {
          "output_type": "stream",
          "text": [
            "[[52.15481923]\n",
            " [ 4.33966944]\n",
            " [22.39366035]\n",
            " [57.52050869]\n",
            " [12.04336601]]\n"
          ],
          "name": "stdout"
        }
      ]
    },
    {
      "cell_type": "code",
      "metadata": {
        "id": "q-JgfWMnPMbH",
        "colab_type": "code",
        "colab": {
          "base_uri": "https://localhost:8080/",
          "height": 164
        },
        "outputId": "0a040436-30c1-4303-a2e3-5e7ef8a4556a"
      },
      "source": [
        "a=tf.placeholder(tf.float32)#no placeholder and session in tensorflow v.2"
      ],
      "execution_count": 17,
      "outputs": [
        {
          "output_type": "error",
          "ename": "AttributeError",
          "evalue": "ignored",
          "traceback": [
            "\u001b[0;31m---------------------------------------------------------------------------\u001b[0m",
            "\u001b[0;31mAttributeError\u001b[0m                            Traceback (most recent call last)",
            "\u001b[0;32m<ipython-input-17-b2a2d98c7c16>\u001b[0m in \u001b[0;36m<module>\u001b[0;34m()\u001b[0m\n\u001b[0;32m----> 1\u001b[0;31m \u001b[0ma\u001b[0m\u001b[0;34m=\u001b[0m\u001b[0mtf\u001b[0m\u001b[0;34m.\u001b[0m\u001b[0mplaceholder\u001b[0m\u001b[0;34m(\u001b[0m\u001b[0mtf\u001b[0m\u001b[0;34m.\u001b[0m\u001b[0mfloat32\u001b[0m\u001b[0;34m)\u001b[0m\u001b[0;34m\u001b[0m\u001b[0;34m\u001b[0m\u001b[0m\n\u001b[0m",
            "\u001b[0;31mAttributeError\u001b[0m: module 'tensorflow' has no attribute 'placeholder'"
          ]
        }
      ]
    },
    {
      "cell_type": "code",
      "metadata": {
        "id": "fSoJHwmPP3Zt",
        "colab_type": "code",
        "colab": {
          "base_uri": "https://localhost:8080/",
          "height": 88
        },
        "outputId": "37484a62-fdc2-48f4-9503-0155fd2a275f"
      },
      "source": [
        "import tensorflow.compat.v1 as tf\n",
        "tf.disable_v2_behavior()"
      ],
      "execution_count": 18,
      "outputs": [
        {
          "output_type": "stream",
          "text": [
            "WARNING:tensorflow:From /usr/local/lib/python3.6/dist-packages/tensorflow/python/compat/v2_compat.py:96: disable_resource_variables (from tensorflow.python.ops.variable_scope) is deprecated and will be removed in a future version.\n",
            "Instructions for updating:\n",
            "non-resource variables are not supported in the long term\n"
          ],
          "name": "stdout"
        }
      ]
    },
    {
      "cell_type": "code",
      "metadata": {
        "id": "BFm6QUT_PTaV",
        "colab_type": "code",
        "colab": {}
      },
      "source": [
        "a=tf.placeholder(tf.float32)"
      ],
      "execution_count": 0,
      "outputs": []
    },
    {
      "cell_type": "code",
      "metadata": {
        "id": "QiPsmjGfQQMI",
        "colab_type": "code",
        "colab": {}
      },
      "source": [
        "b=tf.placeholder(tf.float32)"
      ],
      "execution_count": 0,
      "outputs": []
    },
    {
      "cell_type": "code",
      "metadata": {
        "id": "837gwztmQVv6",
        "colab_type": "code",
        "colab": {}
      },
      "source": [
        "add_op=a+b"
      ],
      "execution_count": 0,
      "outputs": []
    },
    {
      "cell_type": "code",
      "metadata": {
        "id": "YEZBSDrVQgeD",
        "colab_type": "code",
        "colab": {}
      },
      "source": [
        "mul_op=a*b"
      ],
      "execution_count": 0,
      "outputs": []
    },
    {
      "cell_type": "code",
      "metadata": {
        "id": "neQJy9__Qipg",
        "colab_type": "code",
        "colab": {
          "base_uri": "https://localhost:8080/",
          "height": 51
        },
        "outputId": "90dd1e21-c77d-4bee-ee30-7d0eeade42b8"
      },
      "source": [
        "with tf.Session() as sess:\n",
        "  add_result=sess.run(add_op,feed_dict={a:10,b:20})\n",
        "  print(add_result)\n",
        "  mult_result=sess.run(mul_op,feed_dict={a:10,b:20})\n",
        "  print(mult_result)"
      ],
      "execution_count": 26,
      "outputs": [
        {
          "output_type": "stream",
          "text": [
            "30.0\n",
            "200.0\n"
          ],
          "name": "stdout"
        }
      ]
    },
    {
      "cell_type": "code",
      "metadata": {
        "id": "45aYlfSfQzwD",
        "colab_type": "code",
        "colab": {
          "base_uri": "https://localhost:8080/",
          "height": 102
        },
        "outputId": "b335e9e4-3986-4e8f-9e73-3e236ec475ea"
      },
      "source": [
        "with tf.Session() as sess:\n",
        "  add_result=sess.run(add_op,feed_dict={a:rand_a,b:rand_b})\n",
        "  print(add_result)"
      ],
      "execution_count": 24,
      "outputs": [
        {
          "output_type": "stream",
          "text": [
            "[[104.22136  110.03377  125.63672  106.351    143.47017 ]\n",
            " [ 85.13168   44.63945   40.062103  99.62734   38.702827]\n",
            " [108.90364  105.42143   76.2098   114.6406    32.108307]\n",
            " [ 67.80526  127.671234 146.5685    73.47654   85.07776 ]\n",
            " [ 79.29252   28.473679  82.18048   60.80689   80.111145]]\n"
          ],
          "name": "stdout"
        }
      ]
    }
  ]
}