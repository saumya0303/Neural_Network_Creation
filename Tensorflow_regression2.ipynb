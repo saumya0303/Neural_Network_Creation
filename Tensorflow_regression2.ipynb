{
  "nbformat": 4,
  "nbformat_minor": 0,
  "metadata": {
    "colab": {
      "name": "Tensorflow_regression2.ipynb",
      "provenance": [],
      "machine_shape": "hm",
      "authorship_tag": "ABX9TyO5bKzuphlDQksiAtUTRo5f",
      "include_colab_link": true
    },
    "kernelspec": {
      "name": "python3",
      "display_name": "Python 3"
    }
  },
  "cells": [
    {
      "cell_type": "markdown",
      "metadata": {
        "id": "view-in-github",
        "colab_type": "text"
      },
      "source": [
        "<a href=\"https://colab.research.google.com/github/saumya0303/Neural_Network_Creation/blob/master/Tensorflow_regression2.ipynb\" target=\"_parent\"><img src=\"https://colab.research.google.com/assets/colab-badge.svg\" alt=\"Open In Colab\"/></a>"
      ]
    },
    {
      "cell_type": "code",
      "metadata": {
        "id": "dMXXyHpgXzfw",
        "colab_type": "code",
        "colab": {}
      },
      "source": [
        "import tensorflow.compat.v1 as tf\n",
        "tf.disable_v2_behavior() \n",
        "import numpy as np\n",
        "import matplotlib.pyplot as plt\n",
        "import pandas as pd\n"
      ],
      "execution_count": 0,
      "outputs": []
    },
    {
      "cell_type": "code",
      "metadata": {
        "id": "A62d-XqTXac0",
        "colab_type": "code",
        "colab": {}
      },
      "source": [
        "#create our own dataset\n",
        "x_data=np.linspace(0.0,10,100000)\n",
        "noise=np.random.randn(len(x_data))"
      ],
      "execution_count": 0,
      "outputs": []
    },
    {
      "cell_type": "code",
      "metadata": {
        "id": "vCB3Qr2kX1YX",
        "colab_type": "code",
        "colab": {}
      },
      "source": [
        "y_true=0.5*x_data+5 +noise\n",
        "#to make little harder for model add some noise"
      ],
      "execution_count": 0,
      "outputs": []
    },
    {
      "cell_type": "code",
      "metadata": {
        "id": "zHS4Id4-YH2n",
        "colab_type": "code",
        "outputId": "f633dee3-97a0-4143-9ba4-499b0068924f",
        "colab": {
          "base_uri": "https://localhost:8080/",
          "height": 357
        }
      },
      "source": [
        "#just to better visualize\n",
        "x_df=pd.DataFrame(data=x_data,columns=['X DATA'])\n",
        "y_df=pd.DataFrame(data=y_true,columns=['Y'])\n",
        "print(y_df)\n",
        "my_data=pd.concat([x_df,y_df],axis=1)\n",
        "print(my_data.head())"
      ],
      "execution_count": 0,
      "outputs": [
        {
          "output_type": "stream",
          "text": [
            "               Y\n",
            "0       4.403570\n",
            "1       5.346113\n",
            "2       5.830474\n",
            "3       4.296205\n",
            "4       3.983581\n",
            "...          ...\n",
            "99995   8.788689\n",
            "99996   9.236706\n",
            "99997   9.573682\n",
            "99998  10.925560\n",
            "99999  10.229283\n",
            "\n",
            "[100000 rows x 1 columns]\n",
            "   X DATA         Y\n",
            "0  0.0000  4.403570\n",
            "1  0.0001  5.346113\n",
            "2  0.0002  5.830474\n",
            "3  0.0003  4.296205\n",
            "4  0.0004  3.983581\n"
          ],
          "name": "stdout"
        }
      ]
    },
    {
      "cell_type": "code",
      "metadata": {
        "id": "GLGr1CeXwrdA",
        "colab_type": "code",
        "outputId": "f99ae9bd-ebf1-4139-a870-66a64bae0a2e",
        "colab": {
          "base_uri": "https://localhost:8080/",
          "height": 296
        }
      },
      "source": [
        "my_data.sample(250).plot(kind='scatter',x='X DATA',y='Y')"
      ],
      "execution_count": 0,
      "outputs": [
        {
          "output_type": "execute_result",
          "data": {
            "text/plain": [
              "<matplotlib.axes._subplots.AxesSubplot at 0x7f4c7eef85f8>"
            ]
          },
          "metadata": {
            "tags": []
          },
          "execution_count": 24
        },
        {
          "output_type": "display_data",
          "data": {
            "image/png": "[encoded data removed]",
            "text/plain": [
              "<Figure size 432x288 with 1 Axes>"
            ]
          },
          "metadata": {
            "tags": [],
            "needs_background": "light"
          }
        }
      ]
    },
    {
      "cell_type": "code",
      "metadata": {
        "id": "_V-Gf5xpw_fH",
        "colab_type": "code",
        "colab": {}
      },
      "source": [
        "#million points are large number of points to pass in we cannot feed million point at once so better create batches\n",
        "batch_size=8 #take 8 points at a time"
      ],
      "execution_count": 0,
      "outputs": []
    },
    {
      "cell_type": "code",
      "metadata": {
        "id": "Zmx-IWkKYcBk",
        "colab_type": "code",
        "colab": {}
      },
      "source": [
        "m=tf.Variable(0.81)\n",
        "b=tf.Variable(0.17)"
      ],
      "execution_count": 0,
      "outputs": []
    },
    {
      "cell_type": "code",
      "metadata": {
        "id": "Du6Dy8gdYhKx",
        "colab_type": "code",
        "colab": {}
      },
      "source": [
        "xph=tf.placeholder(tf.float32,[batch_size])\n",
        "yph=tf.placeholder(tf.float32,[batch_size])"
      ],
      "execution_count": 0,
      "outputs": []
    },
    {
      "cell_type": "code",
      "metadata": {
        "id": "JVrTsg42YlV8",
        "colab_type": "code",
        "colab": {}
      },
      "source": [
        "y_model=m*xph+b"
      ],
      "execution_count": 0,
      "outputs": []
    },
    {
      "cell_type": "code",
      "metadata": {
        "id": "6Ix_jt5JY59t",
        "colab_type": "code",
        "colab": {}
      },
      "source": [
        "error=tf.reduce_sum(tf.square(yph-y_model))"
      ],
      "execution_count": 0,
      "outputs": []
    },
    {
      "cell_type": "code",
      "metadata": {
        "id": "xXaCLsqBY9VN",
        "colab_type": "code",
        "colab": {}
      },
      "source": [
        "optimizer=tf.train.GradientDescentOptimizer(learning_rate=0.001)\n",
        "train=optimizer.minimize(error)"
      ],
      "execution_count": 0,
      "outputs": []
    },
    {
      "cell_type": "code",
      "metadata": {
        "id": "ZhF2t5M7ZhZL",
        "colab_type": "code",
        "colab": {}
      },
      "source": [
        "init=tf.compat.v1.global_variables_initializer()"
      ],
      "execution_count": 0,
      "outputs": []
    },
    {
      "cell_type": "code",
      "metadata": {
        "id": "VADnU97r0Mlb",
        "colab_type": "code",
        "colab": {}
      },
      "source": [
        "with tf.Session() as sess:\n",
        "  sess.run(init)\n",
        "  batches=1000\n",
        "  for i in range(batches):\n",
        "    rand_ind=np.random.randint(len(x_data),size=batch_size)\n",
        "    feed={xph:x_data[rand_ind],yph:y_true[rand_ind]}\n",
        "    sess.run(train,feed_dict=feed)\n",
        "  model_m,model_b=sess.run([m,b])"
      ],
      "execution_count": 0,
      "outputs": []
    },
    {
      "cell_type": "code",
      "metadata": {
        "id": "LF24GASBaLXt",
        "colab_type": "code",
        "outputId": "e2ae64cf-12bb-4712-d3c5-6cd40f6377de",
        "colab": {
          "base_uri": "https://localhost:8080/",
          "height": 34
        }
      },
      "source": [
        "print(model_m)\n",
        "y_hat=x_data*model_m+model_b"
      ],
      "execution_count": 39,
      "outputs": [
        {
          "output_type": "stream",
          "text": [
            "0.52736586\n"
          ],
          "name": "stdout"
        }
      ]
    },
    {
      "cell_type": "code",
      "metadata": {
        "id": "cezOka72aPRq",
        "colab_type": "code",
        "outputId": "d5b0f885-98ac-46c6-e5a0-6d0ee43e5549",
        "colab": {
          "base_uri": "https://localhost:8080/",
          "height": 296
        }
      },
      "source": [
        "my_data.sample(250).plot(kind='scatter',x='X DATA',y='Y')\n",
        "plt.plot(x_data,y_hat,'r')"
      ],
      "execution_count": 40,
      "outputs": [
        {
          "output_type": "execute_result",
          "data": {
            "text/plain": [
              "[<matplotlib.lines.Line2D at 0x7f4c7ebbc240>]"
            ]
          },
          "metadata": {
            "tags": []
          },
          "execution_count": 40
        },
        {
          "output_type": "display_data",
          "data": {
            "image/png": "[encoded data removed]",
            "text/plain": [
              "<Figure size 432x288 with 1 Axes>"
            ]
          },
          "metadata": {
            "tags": [],
            "needs_background": "light"
          }
        }
      ]
    },
    {
      "cell_type": "code",
      "metadata": {
        "id": "e4Jv9RvuakL8",
        "colab_type": "code",
        "colab": {}
      },
      "source": [
        ""
      ],
      "execution_count": 0,
      "outputs": []
    },
    {
      "cell_type": "code",
      "metadata": {
        "id": "qQOgK5bVaonf",
        "colab_type": "code",
        "colab": {}
      },
      "source": [
        ""
      ],
      "execution_count": 0,
      "outputs": []
    },
    {
      "cell_type": "code",
      "metadata": {
        "id": "N5fATpSJattr",
        "colab_type": "code",
        "colab": {}
      },
      "source": [
        ""
      ],
      "execution_count": 0,
      "outputs": []
    },
    {
      "cell_type": "code",
      "metadata": {
        "id": "b9094RZNa2gm",
        "colab_type": "code",
        "colab": {}
      },
      "source": [
        ""
      ],
      "execution_count": 0,
      "outputs": []
    },
    {
      "cell_type": "code",
      "metadata": {
        "id": "wS66AY4ubCP1",
        "colab_type": "code",
        "colab": {}
      },
      "source": [
        ""
      ],
      "execution_count": 0,
      "outputs": []
    },
    {
      "cell_type": "code",
      "metadata": {
        "id": "_iYQk83VbVb7",
        "colab_type": "code",
        "colab": {}
      },
      "source": [
        "\n",
        "\n"
      ],
      "execution_count": 0,
      "outputs": []
    },
    {
      "cell_type": "code",
      "metadata": {
        "id": "P0Vcq654a7xl",
        "colab_type": "code",
        "colab": {}
      },
      "source": [
        ""
      ],
      "execution_count": 0,
      "outputs": []
    },
    {
      "cell_type": "code",
      "metadata": {
        "id": "DyazHTlzcTjp",
        "colab_type": "code",
        "colab": {}
      },
      "source": [
        ""
      ],
      "execution_count": 0,
      "outputs": []
    },
    {
      "cell_type": "code",
      "metadata": {
        "id": "q2ar3zRucq2V",
        "colab_type": "code",
        "colab": {}
      },
      "source": [
        ""
      ],
      "execution_count": 0,
      "outputs": []
    },
    {
      "cell_type": "code",
      "metadata": {
        "id": "kPv3XpRrdVHk",
        "colab_type": "code",
        "colab": {}
      },
      "source": [
        ""
      ],
      "execution_count": 0,
      "outputs": []
    }
  ]
}